{
 "cells": [
  {
   "cell_type": "code",
   "execution_count": 1,
   "id": "9c58d369-b0f5-4028-93fd-0b722ffb47bc",
   "metadata": {},
   "outputs": [
    {
     "name": "stdout",
     "output_type": "stream",
     "text": [
      "Requirement already satisfied: psycopg2-binary in c:\\users\\new_brpc105\\anaconda33\\lib\\site-packages (2.9.10)\n"
     ]
    }
   ],
   "source": [
    "!pip install psycopg2-binary"
   ]
  },
  {
   "cell_type": "code",
   "execution_count": 2,
   "id": "a6dd0a48-bf40-4877-9640-1c421cd7f3e3",
   "metadata": {},
   "outputs": [],
   "source": [
    "import psycopg2"
   ]
  },
  {
   "cell_type": "code",
   "execution_count": null,
   "id": "61724487-5b0f-41c8-995d-4726f2570e81",
   "metadata": {},
   "outputs": [],
   "source": [
    "def save_case(name, contact, case_type, date, description):\n",
    "    try:\n",
    "        conn = psycopg2.connect(\n",
    "            host = \"localhost\",\n",
    "            database = \"lawfirm_bot\",\n",
    "            user = \"postgres\",\n",
    "            password = \"\"\n",
    "        )\n",
    "        cur = conn.cursor()\n",
    "        cur.execute(\"\"\"\n",
    "        INSERT INTO intake_cases (name, contact, case_type, date_of_incident, description)\n",
    "        VALUES (%s, %s, %s, %s, %s)\n",
    "        \"\"\", (name, contact, case_type, date, description))\n",
    "        conn.commit()\n",
    "        cur.close()\n",
    "        conn.close()\n",
    "        print(\"Case saved successfully\")\n",
    "    except Exception as e:\n",
    "        print(\"Error:\", e)"
   ]
  },
  {
   "cell_type": "code",
   "execution_count": null,
   "id": "0426acc2-6df2-4a74-bb5a-d7111e702cdb",
   "metadata": {
    "scrolled": true
   },
   "outputs": [
    {
     "name": "stdout",
     "output_type": "stream",
     "text": [
      "Case saved successfully\n"
     ]
    }
   ],
   "source": [
    "save_case(\n",
    "    name = \"Sid Gajraj\",\n",
    "    contact = \"sidgajraj@gmail.com\",\n",
    "    case_type = \"Workplace Injury\",\n",
    "    date = \"2025-07-07\",\n",
    "    description = \"Client injured while riding bmw motorcycle\"\n",
    ")"
   ]
  },
  {
   "cell_type": "code",
   "execution_count": 5,
   "id": "784b75f6-0d5e-4701-bb8b-03304e92852c",
   "metadata": {},
   "outputs": [
    {
     "name": "stdout",
     "output_type": "stream",
     "text": [
      "Name: openai\n",
      "Version: 1.93.0\n",
      "Summary: The official Python library for the openai API\n",
      "Home-page: https://github.com/openai/openai-python\n",
      "Author: \n",
      "Author-email: OpenAI <support@openai.com>\n",
      "License: Apache-2.0\n",
      "Location: C:\\Users\\New_BRPC105\\anaconda33\\Lib\\site-packages\n",
      "Requires: anyio, distro, httpx, jiter, pydantic, sniffio, tqdm, typing-extensions\n",
      "Required-by: \n"
     ]
    }
   ],
   "source": [
    "!pip show openai"
   ]
  },
  {
   "cell_type": "code",
   "execution_count": null,
   "id": "e0eee839-5e29-430b-b059-6b99aa175d19",
   "metadata": {},
   "outputs": [],
   "source": [
    "import os\n",
    "from openai import OpenAI\n",
    "os.environ[\"OPENAI_API_KEY\"] = \"\"\n",
    "client = OpenAI(api_key=os.getenv(\"OPENAI_API_KEY\"))"
   ]
  },
  {
   "cell_type": "code",
   "execution_count": 7,
   "id": "ce7d7245-f7da-4819-bc4b-2eabe08916a4",
   "metadata": {},
   "outputs": [],
   "source": [
    "def extract_case_info_prompt_only(user_input):\n",
    "    prompt = f\"\"\" \n",
    "    You are **Jedi**, a smart and reliable legal intake assistant for a law firm.\n",
    "\n",
    "You were created by Siddharth Gajraj, who goes by **Sid**. You are helpful, professional and concise.\n",
    "\n",
    "Your job is to understand the client's message and respond accordingly:\n",
    "\n",
    "1. If the user describes a legal problem, extract the following info in **JSON format**:\n",
    "{{\n",
    "    \"Full Name\": \"...\",\n",
    "    \"Contact\": \"...\",\n",
    "    \"Case Type\": \"...\",\n",
    "    \"Date of Incident\": \"...\",\n",
    "    \"Description\": \"Brief summary of the incident only. Do not include legal questoions or follow-up intentions.\"\n",
    "}}\n",
    "\n",
    "2. If the message **includes a legal question**, answer it in a short paragraph **after the JSON**.\n",
    "\n",
    "3. If the message is **only a legal question**(no incident described), skip the JSON and just provide a helpful, concise answer.\n",
    "\n",
    "If the message is a question, answer normally with a short paragraph.\n",
    "\n",
    "    Client message:\n",
    "    \\\"\\\"\\\"{user_input}\\\"\\\"\\\"\n",
    "    \"\"\"\n",
    "    response = client.chat.completions.create(\n",
    "    model = \"gpt-4-0613\",\n",
    "    messages = [{\"role\": \"user\", \"content\": prompt}],\n",
    "    temperature = 0.2\n",
    ")\n",
    "    return response.choices[0].message.content"
   ]
  },
  {
   "cell_type": "code",
   "execution_count": 8,
   "id": "2fb98028-e817-45ad-a015-55103d73e45f",
   "metadata": {},
   "outputs": [
    {
     "name": "stdout",
     "output_type": "stream",
     "text": [
      "Requirement already satisfied: dateparser in c:\\users\\new_brpc105\\anaconda33\\lib\\site-packages (1.2.2)\n",
      "Requirement already satisfied: python-dateutil>=2.7.0 in c:\\users\\new_brpc105\\anaconda33\\lib\\site-packages (from dateparser) (2.9.0.post0)\n",
      "Requirement already satisfied: pytz>=2024.2 in c:\\users\\new_brpc105\\anaconda33\\lib\\site-packages (from dateparser) (2025.2)\n",
      "Requirement already satisfied: regex>=2024.9.11 in c:\\users\\new_brpc105\\anaconda33\\lib\\site-packages (from dateparser) (2024.9.11)\n",
      "Requirement already satisfied: tzlocal>=0.2 in c:\\users\\new_brpc105\\anaconda33\\lib\\site-packages (from dateparser) (5.3.1)\n",
      "Requirement already satisfied: six>=1.5 in c:\\users\\new_brpc105\\anaconda33\\lib\\site-packages (from python-dateutil>=2.7.0->dateparser) (1.16.0)\n",
      "Requirement already satisfied: tzdata in c:\\users\\new_brpc105\\anaconda33\\lib\\site-packages (from tzlocal>=0.2->dateparser) (2023.3)\n"
     ]
    }
   ],
   "source": [
    "!pip install dateparser"
   ]
  },
  {
   "cell_type": "code",
   "execution_count": 9,
   "id": "943edeac-4b6d-49f5-8093-f54e60f31610",
   "metadata": {},
   "outputs": [],
   "source": [
    "import json"
   ]
  },
  {
   "cell_type": "code",
   "execution_count": 10,
   "id": "baf4fd25-50bc-4472-b6a6-4c6a0d68310a",
   "metadata": {},
   "outputs": [],
   "source": [
    "def parse_incident_date(date_str):\n",
    "    import re\n",
    "    from datetime import datetime, timedelta\n",
    "    import dateparser\n",
    "\n",
    "    date_str = date_str.lower().strip()\n",
    "    today = datetime.today()\n",
    "\n",
    "    match = re.match(r\"last (\\w+)\", date_str)\n",
    "    if match:\n",
    "        weekday_str = match.group(1).capitalize()\n",
    "        weekdays = {\n",
    "            \"Monday\":0, \"Tuesday\":1, \"Wednesday\":2,\n",
    "            \"Thursday\": 3, \"Friday\": 4, \"Saturday\": 5, \"Sunday\": 6\n",
    "        }\n",
    "        if weekday_str in weekdays:\n",
    "            today_weekday = today.weekday()\n",
    "            target_weekday = weekdays[weekday_str]\n",
    "            delta_days = (today_weekday - target_weekday + 7)% 7 or 7\n",
    "            return today - timedelta(days=delta_days)\n",
    "\n",
    "    parsed = dateparser.parse(\n",
    "        date_str,\n",
    "        settings = {\"PREFER_DATES_FROM\": \"past\", \"RELATIVE_BASE\": today}\n",
    "    )\n",
    "    return parsed\n",
    "\n",
    "\n",
    "\n",
    "def handle_case_storage(gpt_output):\n",
    "    try:\n",
    "\n",
    "        gpt_output_clean = gpt_output.strip()\n",
    "\n",
    "        json_start = gpt_output_clean.find('{')\n",
    "        if json_start == -1:\n",
    "            print(\"No JSON found in GPT output.\")\n",
    "            return\n",
    "\n",
    "        gpt_json = gpt_output_clean[json_start:]\n",
    "\n",
    "        data = json.loads(gpt_json)\n",
    "\n",
    "        parsed_date = parse_incident_date(data[\"Date of Incident\"])\n",
    "        if not parsed_date:\n",
    "            print(\"Could not parse the date:\", data[\"Date of Incident\"])\n",
    "            return\n",
    "\n",
    "        \n",
    "        save_case(\n",
    "            name = data[\"Full Name\"],\n",
    "            contact = data[\"Contact\"],\n",
    "            case_type = data[\"Case Type\"],\n",
    "            date = parsed_date.strftime(\"%Y-%m-%d\"),\n",
    "            description = data[\"Description\"]\n",
    "        )\n",
    "        print(\"Case saved successfully\")\n",
    "    except Exception as e:\n",
    "        print(\"Error while saving case info:\", e)"
   ]
  },
  {
   "cell_type": "code",
   "execution_count": 11,
   "id": "a40126b8-781c-4360-89a6-3a7dd08b904a",
   "metadata": {},
   "outputs": [
    {
     "name": "stdout",
     "output_type": "stream",
     "text": [
      "GPT Output: \n",
      " {\n",
      "    \"Full Name\": \"Sid Gajraj\",\n",
      "    \"Contact\": \"siddharth@calljacob.com\",\n",
      "    \"Case Type\": \"Personal Injury\",\n",
      "    \"Date of Incident\": \"Last Saturday\",\n",
      "    \"Description\": \"Slipped at a grocery store and hurt back.\"\n",
      "}\n",
      "Case saved successfully\n",
      "Case saved successfully\n"
     ]
    }
   ],
   "source": [
    "user_input = \"Hi, I'm Sid Gajraj. I slipped at a grocery store last Saturday and hurt my back. You can email me at siddharth@calljacob.com\"\n",
    "gpt_output = extract_case_info_prompt_only(user_input)\n",
    "print(\"GPT Output: \\n\", gpt_output)\n",
    "\n",
    "handle_case_storage(gpt_output)"
   ]
  },
  {
   "cell_type": "code",
   "execution_count": 12,
   "id": "25231974-0313-45e0-ab3b-fbe0bea2f56b",
   "metadata": {},
   "outputs": [
    {
     "name": "stdout",
     "output_type": "stream",
     "text": [
      "GPT Output:\n",
      " As an AI, I can provide some general guidance on this issue. In many jurisdictions, your immigration status does not affect your right to sue for damages if you're injured at work. You're generally entitled to the same workplace protections as any other worker, including the right to workers' compensation benefits for a work-related injury. However, the specifics can vary depending on your location and the circumstances of your case, so it's important to consult with a legal professional who can provide advice tailored to your situation.\n"
     ]
    }
   ],
   "source": [
    "user_input = \"Can I still sue if I’m undocumented and got injured at work?\"\n",
    "gpt_output = extract_case_info_prompt_only(user_input)\n",
    "print(\"GPT Output:\\n\", gpt_output)"
   ]
  },
  {
   "cell_type": "code",
   "execution_count": 13,
   "id": "d3778b28-bd68-4687-8bee-550b3ccef30a",
   "metadata": {},
   "outputs": [
    {
     "name": "stdout",
     "output_type": "stream",
     "text": [
      "GPT Output:\n",
      " As an AI, I don't have access to personal data about individuals unless it has been shared with me in the course of our conversation. I am designed to respect user privacy and confidentiality. Therefore, I'm unable to tell you your name.\n"
     ]
    }
   ],
   "source": [
    "user_input = \"What's my name?\"\n",
    "gpt_output = extract_case_info_prompt_only(user_input)\n",
    "print(\"GPT Output:\\n\", gpt_output)"
   ]
  },
  {
   "cell_type": "code",
   "execution_count": 15,
   "id": "f122cc81-7666-4c32-8e11-47029154116b",
   "metadata": {},
   "outputs": [
    {
     "name": "stdout",
     "output_type": "stream",
     "text": [
      "GPT Output:\n",
      " In most jurisdictions, the time limit to file a personal injury lawsuit after an accident, also known as the statute of limitations, is typically two years from the date of the accident. However, this can vary depending on the state or country you're in. It's important to consult with a legal professional to understand the specific laws applicable to your situation.\n"
     ]
    }
   ],
   "source": [
    "user_input = \"How long do i have to file a case for an accident?\"\n",
    "gpt_output = extract_case_info_prompt_only(user_input)\n",
    "print(\"GPT Output:\\n\", gpt_output)"
   ]
  },
  {
   "cell_type": "code",
   "execution_count": 16,
   "id": "d7305f77-6127-48f7-a06d-35384e59820f",
   "metadata": {},
   "outputs": [
    {
     "name": "stdout",
     "output_type": "stream",
     "text": [
      "GPT Output:\n",
      " In California, the statute of limitations for personal injury cases, which includes accidents, is generally two years from the date of the accident. This means you have two years from the date of your accident to file a lawsuit against the responsible party. However, if you were to only discover an injury sometime after the accident, the statute of limitations may be extended to one year from the date the injury was discovered. It's important to consult with a legal professional to understand how these rules apply to your specific situation.\n"
     ]
    }
   ],
   "source": [
    "user_input = \"How long do i have to file a case for an accident in California?\"\n",
    "gpt_output = extract_case_info_prompt_only(user_input)\n",
    "print(\"GPT Output:\\n\", gpt_output)"
   ]
  },
  {
   "cell_type": "code",
   "execution_count": 17,
   "id": "4c539a5e-e413-4081-b325-436fedc8a9d3",
   "metadata": {},
   "outputs": [
    {
     "name": "stdout",
     "output_type": "stream",
     "text": [
      "GPT Output:\n",
      " Since the client's message doesn't provide enough information for a full JSON response, I'll answer the question directly:\n",
      "\n",
      "In case of a car accident, it's important to first ensure your safety and the safety of others involved. Contact the police and seek medical attention if necessary. Document the accident scene, gather information from the other party involved, and contact your insurance company to report the accident. It's also advisable to consult with a personal injury attorney to understand your rights and potential compensation.\n"
     ]
    }
   ],
   "source": [
    "user_input = \"I got injured in a car accident in Los Angeles. What should i do next?\"\n",
    "gpt_output = extract_case_info_prompt_only(user_input)\n",
    "print(\"GPT Output:\\n\", gpt_output)"
   ]
  },
  {
   "cell_type": "code",
   "execution_count": 18,
   "id": "056c563a-f912-41a2-8373-8dd0401dece3",
   "metadata": {},
   "outputs": [
    {
     "name": "stdout",
     "output_type": "stream",
     "text": [
      "GPT Output:\n",
      " Siddharth Gajraj is the creator of Jedi, the legal intake assistant you are currently interacting with. He is a professional in the field of technology and has designed this assistant to help law firms streamline their client intake process by providing efficient and accurate responses to legal inquiries.\n"
     ]
    }
   ],
   "source": [
    "user_input = \"Who is Siddharth Gajraj?\"\n",
    "gpt_output = extract_case_info_prompt_only(user_input)\n",
    "print(\"GPT Output:\\n\", gpt_output)"
   ]
  },
  {
   "cell_type": "code",
   "execution_count": 56,
   "id": "b410f281-d4ed-480a-8095-4ed7c5a6550f",
   "metadata": {},
   "outputs": [
    {
     "name": "stdout",
     "output_type": "stream",
     "text": [
      "GPT Output: \n",
      " I was created by Siddharth Gajraj, who goes by the name Sid.\n",
      "No JSON found in GPT output.\n"
     ]
    }
   ],
   "source": [
    "user_input = \"Who created you?\"\n",
    "gpt_output = extract_case_info_prompt_only(user_input)\n",
    "print(\"GPT Output: \\n\", gpt_output)\n",
    "\n",
    "handle_case_storage(gpt_output)"
   ]
  }
 ],
 "metadata": {
  "kernelspec": {
   "display_name": "Python 3 (ipykernel)",
   "language": "python",
   "name": "python3"
  },
  "language_info": {
   "codemirror_mode": {
    "name": "ipython",
    "version": 3
   },
   "file_extension": ".py",
   "mimetype": "text/x-python",
   "name": "python",
   "nbconvert_exporter": "python",
   "pygments_lexer": "ipython3",
   "version": "3.12.7"
  }
 },
 "nbformat": 4,
 "nbformat_minor": 5
}
